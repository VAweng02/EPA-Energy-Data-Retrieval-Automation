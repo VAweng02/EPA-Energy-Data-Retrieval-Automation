{
 "cells": [
  {
   "cell_type": "code",
   "execution_count": 1,
   "id": "3f5efa56",
   "metadata": {},
   "outputs": [],
   "source": [
    "import numpy as np\n",
    "import pandas as pd\n",
    "import matplotlib.pyplot as plt\n",
    "import scipy"
   ]
  },
  {
   "cell_type": "code",
   "execution_count": null,
   "id": "8d7b9eef",
   "metadata": {},
   "outputs": [],
   "source": [
    "# Read the CSV file\n",
    "TO_NAME = pd.read_csv(\"dataset.csv\")\n",
    "TO_NAME1 = pd.read_csv(\"dataset1.csv\")"
   ]
  }
 ],
 "metadata": {
  "kernelspec": {
   "display_name": "Python 3 (ipykernel)",
   "language": "python",
   "name": "python3"
  },
  "language_info": {
   "codemirror_mode": {
    "name": "ipython",
    "version": 3
   },
   "file_extension": ".py",
   "mimetype": "text/x-python",
   "name": "python",
   "nbconvert_exporter": "python",
   "pygments_lexer": "ipython3",
   "version": "3.10.6"
  }
 },
 "nbformat": 4,
 "nbformat_minor": 5
}
