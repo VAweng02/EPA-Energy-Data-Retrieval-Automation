{
 "cells": [
  {
   "cell_type": "code",
   "execution_count": 2,
   "id": "2d2bc77c",
   "metadata": {},
   "outputs": [],
   "source": [
    "import pandas as pd"
   ]
  },
  {
   "cell_type": "code",
   "execution_count": 3,
   "id": "50b8df8a",
   "metadata": {
    "scrolled": true
   },
   "outputs": [
    {
     "name": "stdout",
     "output_type": "stream",
     "text": [
      "Columns of DataFrame 1:\n",
      "Index(['stateCode', 'facilityName', 'facilityId', 'unitId', 'associatedStacks',\n",
      "       'year', 'countOpTime', 'sumOpTime', 'grossLoad', 'steamLoad', 'so2Mass',\n",
      "       'so2Rate', 'co2Mass', 'co2Rate', 'noxMass', 'noxRate', 'heatInput',\n",
      "       'primaryFuelInfo', 'secondaryFuelInfo', 'unitType', 'so2ControlInfo',\n",
      "       'noxControlInfo', 'pmControlInfo', 'hgControlInfo', 'programCodeInfo'],\n",
      "      dtype='object')\n",
      "\n",
      "Columns of DataFrame 2:\n",
      "Index(['stateCode', 'facilityName', 'facilityId', 'unitId', 'associatedStacks',\n",
      "       'year', 'countOpTime', 'sumOpTime', 'grossLoad', 'steamLoad', 'so2Mass',\n",
      "       'so2Rate', 'co2Mass', 'co2Rate', 'noxMass', 'noxRate', 'heatInput',\n",
      "       'primaryFuelInfo', 'secondaryFuelInfo', 'unitType', 'so2ControlInfo',\n",
      "       'noxControlInfo', 'pmControlInfo', 'hgControlInfo', 'programCodeInfo'],\n",
      "      dtype='object')\n"
     ]
    }
   ],
   "source": [
    "df_streaming = pd.read_csv('streaming_data.csv')\n",
    "df_emissions = pd.read_csv('emissions_data.csv')\n",
    "\n",
    "print(\"Columns of DataFrame 1:\")\n",
    "print(df_streaming.columns)\n",
    "\n",
    "print(\"\\nColumns of DataFrame 2:\")\n",
    "print(df_emissions.columns)"
   ]
  },
  {
   "cell_type": "code",
   "execution_count": 4,
   "id": "c80c3555",
   "metadata": {
    "scrolled": false
   },
   "outputs": [
    {
     "name": "stdout",
     "output_type": "stream",
     "text": [
      "Columns of the Combined DataFrame:\n",
      "Index(['stateCode', 'facilityName', 'facilityId', 'unitId', 'associatedStacks',\n",
      "       'year', 'countOpTime', 'sumOpTime', 'grossLoad', 'steamLoad', 'so2Mass',\n",
      "       'so2Rate', 'co2Mass', 'co2Rate', 'noxMass', 'noxRate', 'heatInput',\n",
      "       'primaryFuelInfo', 'secondaryFuelInfo', 'unitType', 'so2ControlInfo',\n",
      "       'noxControlInfo', 'pmControlInfo', 'hgControlInfo', 'programCodeInfo'],\n",
      "      dtype='object')\n"
     ]
    }
   ],
   "source": [
    "df_combined = pd.concat([df_streaming, df_emissions])\n",
    "\n",
    "print(\"Columns of the Combined DataFrame:\")\n",
    "print(df_combined.columns)"
   ]
  },
  {
   "cell_type": "code",
   "execution_count": 9,
   "id": "be2c5310",
   "metadata": {},
   "outputs": [
    {
     "name": "stdout",
     "output_type": "stream",
     "text": [
      "  stateCode facilityName  facilityId unitId associatedStacks  year   \n",
      "0        AL        Barry           3      1           CS0AAN  2021  \\\n",
      "1        AL        Barry           3      2           CS0AAN  2021   \n",
      "2        AL        Barry           3      4              NaN  2021   \n",
      "3        AL        Barry           3      5              NaN  2021   \n",
      "4        AL        Barry           3     6A              NaN  2021   \n",
      "5        AL        Barry           3     6B              NaN  2021   \n",
      "6        AL        Barry           3     7A              NaN  2021   \n",
      "7        AL        Barry           3     7B              NaN  2021   \n",
      "\n",
      "   countOpTime  sumOpTime   grossLoad  steamLoad  ...  noxRate     heatInput   \n",
      "0            0       0.00         NaN        NaN  ...      NaN           NaN  \\\n",
      "1           57      56.50      821.00        NaN  ...   0.0416  1.447535e+04   \n",
      "2         3806    3787.25   769941.75        NaN  ...   0.2426  7.288860e+06   \n",
      "3         6081    6059.75  3386018.75        NaN  ...   0.0736  3.344486e+07   \n",
      "4         7152    7149.50  1851342.25        NaN  ...   0.0093  1.266230e+07   \n",
      "5         7376    7365.75  1905536.00        NaN  ...   0.0094  1.346275e+07   \n",
      "6         8260    8250.50  2143308.25        NaN  ...   0.0094  1.547979e+07   \n",
      "7         8298    8288.00  2164953.00        NaN  ...   0.0087  1.556071e+07   \n",
      "\n",
      "        primaryFuelInfo     secondaryFuelInfo            unitType   \n",
      "0  Pipeline Natural Gas                   NaN  Tangentially-fired  \\\n",
      "1  Pipeline Natural Gas                   NaN  Tangentially-fired   \n",
      "2                  Coal  Pipeline Natural Gas  Tangentially-fired   \n",
      "3                  Coal  Pipeline Natural Gas  Tangentially-fired   \n",
      "4  Pipeline Natural Gas                   NaN      Combined cycle   \n",
      "5  Pipeline Natural Gas                   NaN      Combined cycle   \n",
      "6  Pipeline Natural Gas                   NaN      Combined cycle   \n",
      "7  Pipeline Natural Gas                   NaN      Combined cycle   \n",
      "\n",
      "   so2ControlInfo                                     noxControlInfo   \n",
      "0             NaN  Low NOx Burner Technology w/ Closed-coupled OF...  \\\n",
      "1             NaN  Low NOx Burner Technology w/ Closed-coupled OF...   \n",
      "2             NaN  Low NOx Burner Technology w/ Separated OFA,Sel...   \n",
      "3   Wet Limestone  Low NOx Burner Technology w/ Separated OFA,Sel...   \n",
      "4             NaN  Dry Low NOx Burners,Selective Catalytic Reduction   \n",
      "5             NaN  Dry Low NOx Burners,Selective Catalytic Reduction   \n",
      "6             NaN  Dry Low NOx Burners,Selective Catalytic Reduction   \n",
      "7             NaN  Dry Low NOx Burners,Selective Catalytic Reduction   \n",
      "\n",
      "                pmControlInfo   \n",
      "0                         NaN  \\\n",
      "1                         NaN   \n",
      "2  Electrostatic Precipitator   \n",
      "3  Electrostatic Precipitator   \n",
      "4                         NaN   \n",
      "5                         NaN   \n",
      "6                         NaN   \n",
      "7                         NaN   \n",
      "\n",
      "                                       hgControlInfo   \n",
      "0                                                NaN  \\\n",
      "1                                                NaN   \n",
      "2                  Halogenated PAC Sorbent Injection   \n",
      "3  Catalyst (gold, palladium, or other) used to o...   \n",
      "4                                                NaN   \n",
      "5                                                NaN   \n",
      "6                                                NaN   \n",
      "7                                                NaN   \n",
      "\n",
      "                     programCodeInfo  \n",
      "0        ARP, CSNOX, CSOSG2, CSSO2G2  \n",
      "1        ARP, CSNOX, CSOSG2, CSSO2G2  \n",
      "2  ARP, CSNOX, CSOSG2, CSSO2G2, MATS  \n",
      "3  ARP, CSNOX, CSOSG2, CSSO2G2, MATS  \n",
      "4        ARP, CSNOX, CSOSG2, CSSO2G2  \n",
      "5        ARP, CSNOX, CSOSG2, CSSO2G2  \n",
      "6        ARP, CSNOX, CSOSG2, CSSO2G2  \n",
      "7        ARP, CSNOX, CSOSG2, CSSO2G2  \n",
      "\n",
      "[8 rows x 25 columns]\n"
     ]
    }
   ],
   "source": [
    "filtered_df = df_combined[df_combined['facilityName'] == 'Barry']\n",
    "print(filtered_df)"
   ]
  },
  {
   "cell_type": "code",
   "execution_count": null,
   "id": "e7c44fb0",
   "metadata": {},
   "outputs": [],
   "source": []
  }
 ],
 "metadata": {
  "kernelspec": {
   "display_name": "Python 3 (ipykernel)",
   "language": "python",
   "name": "python3"
  },
  "language_info": {
   "codemirror_mode": {
    "name": "ipython",
    "version": 3
   },
   "file_extension": ".py",
   "mimetype": "text/x-python",
   "name": "python",
   "nbconvert_exporter": "python",
   "pygments_lexer": "ipython3",
   "version": "3.9.6"
  }
 },
 "nbformat": 4,
 "nbformat_minor": 5
}
