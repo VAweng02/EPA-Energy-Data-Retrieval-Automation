{
 "cells": [
  {
   "cell_type": "code",
   "execution_count": 46,
   "id": "2d2bc77c",
   "metadata": {},
   "outputs": [],
   "source": [
    "import pandas as pd"
   ]
  },
  {
   "cell_type": "code",
   "execution_count": 47,
   "id": "50b8df8a",
   "metadata": {
    "scrolled": true
   },
   "outputs": [
    {
     "name": "stdout",
     "output_type": "stream",
     "text": [
      "['AL' 'TX' 'LA' 'KY' 'KS' 'OK' 'AR' 'IL' 'MD' 'IN' 'IA' 'MI' 'MS' 'MO'\n",
      " 'NJ' 'NY' 'OH' 'PA' 'TN' 'VA' 'WV' 'WI']\n",
      "['PA' 'TX' 'LA' 'OH' 'MI' 'OK']\n"
     ]
    }
   ],
   "source": [
    "df_streaming = pd.read_csv('streaming_data.csv')\n",
    "df_emissions = pd.read_csv('emissions_data.csv')\n",
    "\n",
    "print(\"Columns of DataFrame 1:\")\n",
    "print(df_streaming.columns)\n",
    "\n",
    "print(\"\\nColumns of DataFrame 2:\")\n",
    "print(df_emissions.columns)"
   ]
  },
  {
   "cell_type": "code",
   "execution_count": 50,
   "id": "c80c3555",
   "metadata": {
    "scrolled": false
   },
   "outputs": [
    {
     "name": "stdout",
     "output_type": "stream",
     "text": [
      "Columns of the Combined DataFrame:\n",
      "Index(['stateCode', 'facilityName', 'facilityId', 'unitId', 'associatedStacks',\n",
      "       'year', 'countOpTime', 'sumOpTime', 'grossLoad', 'steamLoad', 'so2Mass',\n",
      "       'so2Rate', 'co2Mass', 'co2Rate', 'noxMass', 'noxRate', 'heatInput',\n",
      "       'primaryFuelInfo', 'secondaryFuelInfo', 'unitType', 'so2ControlInfo',\n",
      "       'noxControlInfo', 'pmControlInfo', 'hgControlInfo', 'programCodeInfo'],\n",
      "      dtype='object')\n"
     ]
    }
   ],
   "source": [
    "df_combined = pd.concat([df_streaming, df_emissions])\n",
    "\n",
    "print(\"Columns of the Combined DataFrame:\")\n",
    "print(df_combined.columns)"
   ]
  },
  {
   "cell_type": "code",
   "execution_count": null,
   "id": "5a820d37",
   "metadata": {},
   "outputs": [],
   "source": [
    "# Group the data by power plant unit, year, and any other relevant columns\n",
    "grouped_data = df_combined.groupby(['facilityName', 'unitId', 'year'])\n",
    "\n",
    "# Iterate over the groups to generate hourly timeseries\n",
    "for group, data in grouped_data:\n",
    "    facility_name, unit_id, year = group\n",
    "    \n",
    "    # Get the total number of rows in the group\n",
    "    total_rows = data.shape[0]\n",
    "    \n",
    "    # Generate the hourly timeseries\n",
    "    hourly_timeseries = pd.date_range(start=f'{year}-01-01 00:00:00', periods=total_rows, freq='H')\n",
    "    \n",
    "    # Assign the hourly timeseries to the data\n",
    "    data['hour'] = hourly_timeseries\n",
    "    \n",
    "    # Print or process the data for the specific power plant unit\n",
    "    print(f\"Facility Name: {facility_name}, Unit ID: {unit_id}, Year: {year}\")\n",
    "    print(data[['hour', 'grossLoad', 'so2Mass', 'noxMass', 'co2Mass']])\n",
    "    print(\"--------------------\")"
   ]
  },
  {
   "cell_type": "code",
   "execution_count": null,
   "id": "1e572058",
   "metadata": {},
   "outputs": [],
   "source": []
  }
 ],
 "metadata": {
  "kernelspec": {
   "display_name": "Python 3 (ipykernel)",
   "language": "python",
   "name": "python3"
  },
  "language_info": {
   "codemirror_mode": {
    "name": "ipython",
    "version": 3
   },
   "file_extension": ".py",
   "mimetype": "text/x-python",
   "name": "python",
   "nbconvert_exporter": "python",
   "pygments_lexer": "ipython3",
   "version": "3.9.6"
  }
 },
 "nbformat": 4,
 "nbformat_minor": 5
}
